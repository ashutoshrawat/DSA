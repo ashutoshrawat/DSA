{
 "cells": [
  {
   "cell_type": "markdown",
   "metadata": {},
   "source": [
    "### Subarray with a given sum\n",
    "\n",
    "Given an unsorted array A of size N that contains only non-negative integers, find a continuous sub-array which adds to a given number S. In case of multiple subarrays, return the subarray which comes first on moving from left to right."
   ]
  },
  {
   "cell_type": "markdown",
   "metadata": {},
   "source": [
    "### Solution\n",
    "Use sliding window technique: \n",
    "* Traverse the array, and keep track of sum of the elements as you traverse\n",
    "* If sum of elements is greater than the sum specified then subtract the elements from the start of window until the sum becomes less than the specified sum\n",
    "* If sum is equal to the specified sum, return"
   ]
  },
  {
   "cell_type": "code",
   "execution_count": 2,
   "metadata": {},
   "outputs": [
    {
     "name": "stdout",
     "output_type": "stream",
     "text": [
      "[2, 4]\n"
     ]
    }
   ],
   "source": [
    "def subarray_sum(arr, n, s):\n",
    "    start = 0\n",
    "    sum = 0\n",
    "    index = [-1]               \n",
    "    for i in range(n):\n",
    "        sum = sum + arr[i]\n",
    "        while sum > s and start < i:\n",
    "            sum = sum - arr[start]\n",
    "            start = start + 1\n",
    "        if sum == s:\n",
    "            index = [start + 1, i + 1] # +1 for index starting from 1\n",
    "            break \n",
    "    return index\n",
    "    \n",
    "a = subarray_sum([1, 2, 3, 7, 5], 5, 12)\n",
    "print(a)"
   ]
  },
  {
   "cell_type": "code",
   "execution_count": null,
   "metadata": {},
   "outputs": [],
   "source": []
  }
 ],
 "metadata": {
  "interpreter": {
   "hash": "8dcc446f2311d79272df46a03dc434a4e9bf01b9d037a0184355a9a454cae96a"
  },
  "kernelspec": {
   "display_name": "Python 3.9.12 ('base')",
   "language": "python",
   "name": "python3"
  },
  "language_info": {
   "codemirror_mode": {
    "name": "ipython",
    "version": 3
   },
   "file_extension": ".py",
   "mimetype": "text/x-python",
   "name": "python",
   "nbconvert_exporter": "python",
   "pygments_lexer": "ipython3",
   "version": "3.9.12"
  },
  "orig_nbformat": 4
 },
 "nbformat": 4,
 "nbformat_minor": 2
}
