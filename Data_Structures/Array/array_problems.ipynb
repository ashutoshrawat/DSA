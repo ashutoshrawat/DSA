{
 "cells": [
  {
   "cell_type": "markdown",
   "metadata": {},
   "source": [
    "### Subarray with a given sum\n",
    "\n",
    "Given an unsorted array A of size N that contains only non-negative integers, find a continuous sub-array which adds to a given number S. In case of multiple subarrays, return the subarray which comes first on moving from left to right."
   ]
  },
  {
   "cell_type": "markdown",
   "metadata": {},
   "source": [
    "### Solution\n",
    "Use sliding window technique: \n",
    "* Traverse the array, and keep track of sum of the elements as you traverse\n",
    "* If sum of elements is greater than the sum specified then subtract the elements from the start of window until the sum becomes less than the specified sum\n",
    "* If sum is equal to the specified sum, return"
   ]
  },
  {
   "cell_type": "code",
   "execution_count": 2,
   "metadata": {},
   "outputs": [
    {
     "name": "stdout",
     "output_type": "stream",
     "text": [
      "[2, 4]\n"
     ]
    }
   ],
   "source": [
    "def subarray_sum(arr, n, s):\n",
    "    start = 0\n",
    "    sum = 0\n",
    "    index = [-1]               \n",
    "    for i in range(n):\n",
    "        sum = sum + arr[i]\n",
    "        while sum > s and start < i:\n",
    "            sum = sum - arr[start]\n",
    "            start = start + 1\n",
    "        if sum == s:\n",
    "            index = [start + 1, i + 1] # +1 for index starting from 1\n",
    "            break \n",
    "    return index\n",
    "    \n",
    "a = subarray_sum([1, 2, 3, 7, 5], 5, 12)\n",
    "print(a)"
   ]
  },
  {
   "cell_type": "markdown",
   "metadata": {},
   "source": [
    "### Two sum\n",
    "Given an array of integers *_nums_* and an integer *_target_*, return indices of the two numbers such that they add up to *_target_*."
   ]
  },
  {
   "cell_type": "markdown",
   "metadata": {},
   "source": [
    "### Solution\n",
    "Use hashmaps or dictionary to lookup in O(1) for the difference\n",
    "\n",
    "**Time Complexity** : O(n)\n",
    "**Space Complexity** : O(n)"
   ]
  },
  {
   "cell_type": "code",
   "execution_count": 4,
   "metadata": {},
   "outputs": [
    {
     "name": "stdout",
     "output_type": "stream",
     "text": [
      "[0, 1]\n"
     ]
    }
   ],
   "source": [
    "def twoSum(arr, target):\n",
    "    prevMap = {}\n",
    "\n",
    "    for i, x in enumerate(arr):\n",
    "        diff = target - x\n",
    "        if diff in prevMap:\n",
    "            return [prevMap[diff], i]\n",
    "        prevMap[x] = i\n",
    "\n",
    "print(twoSum([3, 3, 4], 6))"
   ]
  },
  {
   "cell_type": "markdown",
   "metadata": {},
   "source": [
    "### Two Sum II\n",
    "Sorted array is give. Can only use constant space complexity (no hashmaps)\n",
    "\n",
    "### Solution\n",
    "Use of two pointers, one from the beginning and one from the end"
   ]
  },
  {
   "cell_type": "code",
   "execution_count": 5,
   "metadata": {},
   "outputs": [
    {
     "name": "stdout",
     "output_type": "stream",
     "text": [
      "[1, 3]\n"
     ]
    }
   ],
   "source": [
    "def twoSum(numbers, target):\n",
    "        first = 0\n",
    "        last = len(numbers) - 1\n",
    "        \n",
    "        while first <= last:\n",
    "            if (numbers[first] + numbers[last]) == target:\n",
    "                return [first+1, last+1]\n",
    "            if (numbers[first] + numbers[last]) > target:\n",
    "                last -= 1\n",
    "            if (numbers[first] + numbers[last]) < target:\n",
    "                first += 1\n",
    "\n",
    "print(twoSum([2, 3, 4], 6))"
   ]
  },
  {
   "cell_type": "markdown",
   "metadata": {},
   "source": [
    "### 3 Sum\n",
    "\n"
   ]
  },
  {
   "cell_type": "code",
   "execution_count": null,
   "metadata": {},
   "outputs": [],
   "source": [
    "def threeSum(nums):\n",
    "        index = []\n",
    "        nums.sort()\n",
    "        for i in range(len(nums)):\n",
    "            if (i > 0) & (nums[i] == nums[i-1]):\n",
    "                continue\n",
    "            target = -nums[i]\n",
    "            \n",
    "            first = i + 1\n",
    "            last = len(nums) - 1\n",
    "            while first < last:\n",
    "                if nums[first] + nums[last] > target:\n",
    "                    last -= 1\n",
    "                elif nums[first] + nums[last] == target:\n",
    "                    index.append([nums[i], nums[first], nums[last]])\n",
    "                    first += 1\n",
    "                    while nums[first] == nums[first-1] and first < last:\n",
    "                        first += 1\n",
    "                else:\n",
    "                    first += 1\n",
    "            \n",
    "                    \n",
    "        return index"
   ]
  }
 ],
 "metadata": {
  "interpreter": {
   "hash": "8dcc446f2311d79272df46a03dc434a4e9bf01b9d037a0184355a9a454cae96a"
  },
  "kernelspec": {
   "display_name": "Python 3.9.12 ('base')",
   "language": "python",
   "name": "python3"
  },
  "language_info": {
   "codemirror_mode": {
    "name": "ipython",
    "version": 3
   },
   "file_extension": ".py",
   "mimetype": "text/x-python",
   "name": "python",
   "nbconvert_exporter": "python",
   "pygments_lexer": "ipython3",
   "version": "3.9.12"
  },
  "orig_nbformat": 4
 },
 "nbformat": 4,
 "nbformat_minor": 2
}
