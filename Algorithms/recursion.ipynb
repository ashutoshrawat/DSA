{
 "cells": [
  {
   "cell_type": "markdown",
   "metadata": {},
   "source": [
    "## Recursion\n",
    "\n",
    "The process in which function calls itself directly or indirectly is called recursion. Internally recursion is implemented using stacks in the memory. We get segmentation fault error when the stack overflows i.e the memory demand exceeds the memory allocated to the stack. To overcome this we need a base case that will help us to end the infinite function call in the recursion. \n",
    "\n",
    "After a function finishes, it needs the address of previous function so that it can return to it, stacks are also useful for this. "
   ]
  },
  {
   "cell_type": "markdown",
   "metadata": {},
   "source": [
    "### Understand how function calls happen"
   ]
  },
  {
   "cell_type": "code",
   "execution_count": 1,
   "metadata": {},
   "outputs": [
    {
     "name": "stdout",
     "output_type": "stream",
     "text": [
      "5\n",
      "4\n",
      "3\n",
      "2\n",
      "1\n"
     ]
    }
   ],
   "source": [
    "def func(n):\n",
    "    if n == 0: return\n",
    "    print(n)\n",
    "    func(n-1)\n",
    "\n",
    "func(5)"
   ]
  },
  {
   "cell_type": "code",
   "execution_count": 2,
   "metadata": {},
   "outputs": [
    {
     "name": "stdout",
     "output_type": "stream",
     "text": [
      "1\n",
      "2\n",
      "3\n",
      "4\n",
      "5\n"
     ]
    }
   ],
   "source": [
    "def func(n):\n",
    "    if n == 0: return\n",
    "    func(n-1)\n",
    "    print(n)\n",
    "\n",
    "func(5)"
   ]
  },
  {
   "cell_type": "markdown",
   "metadata": {},
   "source": [
    "Above we can see how the function calls happen. In first function the print is happening before the recursive call, while in second the print is after the recursive call (so it will start printing after all the recursive calls finishes and value of n is 1). So any statement before recursive calls are computed while going into recursion, and any statement after recursive call are computed while returing from recursion"
   ]
  },
  {
   "cell_type": "markdown",
   "metadata": {},
   "source": [
    "### Time complexity\n",
    "\n",
    "For every recursive function time complexity can be calculated by:\n",
    "* No. of function calls -> n\n",
    "* Time complexity of each function -> T(n)\n",
    "\n",
    "Time complexity -> n*T(n)\n"
   ]
  },
  {
   "cell_type": "markdown",
   "metadata": {},
   "source": [
    "### Problems\n",
    "\n",
    "1.  **Digit Sum**\n",
    "\n",
    "Calculate the sum of give digit n\n",
    "\n",
    "Eg. 123 -> 6"
   ]
  },
  {
   "cell_type": "code",
   "execution_count": 14,
   "metadata": {},
   "outputs": [
    {
     "data": {
      "text/plain": [
       "14"
      ]
     },
     "execution_count": 14,
     "metadata": {},
     "output_type": "execute_result"
    }
   ],
   "source": [
    "# Recursive thinking\n",
    "# digit_sum(n) -> n%10 (this will give last digit) + digit_sum(n/10)\n",
    "# Base condition f(123) -> 3 + f(12) -> 3 + 2 + f(1) -> 3 + 2 + 1 + f(0) (if n==0 return 0)\n",
    "\n",
    "def digit_sum(n):\n",
    "    if n == 0: return 0\n",
    "    return n % 10 + digit_sum(n//10)\n",
    "\n",
    "digit_sum(68)\n",
    "\n",
    "# Time complexity\n",
    "# Number of function calls -> number of digits in n (n//10) -> log n\n",
    "# Time complexity of each function call -> O(1)\n",
    "# Time complexity -> O(log n)"
   ]
  },
  {
   "cell_type": "code",
   "execution_count": null,
   "metadata": {},
   "outputs": [],
   "source": []
  }
 ],
 "metadata": {
  "interpreter": {
   "hash": "8dcc446f2311d79272df46a03dc434a4e9bf01b9d037a0184355a9a454cae96a"
  },
  "kernelspec": {
   "display_name": "Python 3.9.12 ('base')",
   "language": "python",
   "name": "python3"
  },
  "language_info": {
   "codemirror_mode": {
    "name": "ipython",
    "version": 3
   },
   "file_extension": ".py",
   "mimetype": "text/x-python",
   "name": "python",
   "nbconvert_exporter": "python",
   "pygments_lexer": "ipython3",
   "version": "3.9.12"
  },
  "orig_nbformat": 4
 },
 "nbformat": 4,
 "nbformat_minor": 2
}
